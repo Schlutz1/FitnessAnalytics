{
 "cells": [
  {
   "cell_type": "markdown",
   "metadata": {},
   "source": [
    "# Strava sandbox"
   ]
  },
  {
   "cell_type": "markdown",
   "metadata": {},
   "source": [
    "https://stackoverflow.com/questions/52880434/problem-with-access-token-in-strava-api-v3-get-all-athlete-activities\n",
    "\n",
    "https://developers.strava.com/docs/authentication/\n",
    "\n",
    "https://developers.strava.com/docs/getting-started/"
   ]
  },
  {
   "cell_type": "code",
   "execution_count": 26,
   "metadata": {},
   "outputs": [],
   "source": [
    "import requests as r\n",
    "import pandas as pd\n",
    "\n",
    "from selenium import webdriver\n",
    "from selenium.webdriver.common.keys import Keys\n",
    "\n",
    "import time\n",
    "import json\n",
    "\n",
    "import os, sys"
   ]
  },
  {
   "cell_type": "code",
   "execution_count": 27,
   "metadata": {},
   "outputs": [],
   "source": [
    "# globals for oauth pattern\n",
    "\n",
    "email = 'max.schultz1@gmail.com'\n",
    "password = 'Strava123'\n",
    "\n",
    "client_id = '42763'\n",
    "client_secret = '86c423e10bec9e9bdc577ea809d94b169e72d5e2'\n",
    "\n",
    "redirect_uri = 'http://localhost/exchange_token'\n",
    "response_type = 'code'\n",
    "scope = 'activity:read_all'"
   ]
  },
  {
   "cell_type": "code",
   "execution_count": 28,
   "metadata": {},
   "outputs": [
    {
     "data": {
      "text/plain": [
       "'http://www.strava.com/oauth/authorize?client_id=42763&response_type=code&redirect_uri=http://localhost/exchange_token&scope=activity:read_all'"
      ]
     },
     "execution_count": 28,
     "metadata": {},
     "output_type": "execute_result"
    }
   ],
   "source": [
    "auth_url = 'http://www.strava.com/oauth/authorize?client_id={client_id}&response_type={response_type}&redirect_uri={redirect_uri}&scope={scope}'.format(\n",
    "    client_id = client_id,\n",
    "    response_type = response_type,\n",
    "    redirect_uri = redirect_uri,\n",
    "    scope = scope\n",
    ")\n",
    "auth_url"
   ]
  },
  {
   "cell_type": "markdown",
   "metadata": {},
   "source": [
    "this will ask for login and auth, currently done in brower, move to api where possible"
   ]
  },
  {
   "cell_type": "code",
   "execution_count": 29,
   "metadata": {},
   "outputs": [
    {
     "data": {
      "text/plain": [
       "'http://localhost/exchange_token?state=&code=0a48b4afeb8ad57beb2462c01988cadddb41a65f&scope=read,activity:read_all'"
      ]
     },
     "execution_count": 29,
     "metadata": {},
     "output_type": "execute_result"
    }
   ],
   "source": [
    "# attempt to automate in selenium\n",
    "\n",
    "driver = webdriver.Chrome()\n",
    "driver.get(auth_url)\n",
    "\n",
    "\n",
    "time.sleep(1)\n",
    "email_element = driver.find_element_by_name(\"email\")\n",
    "email_element.send_keys(email)\n",
    "\n",
    "pw_element = driver.find_element_by_name(\"password\")\n",
    "pw_element.send_keys(password)\n",
    "\n",
    "login_element = driver.find_element_by_id(\"login-button\")\n",
    "login_element.click()\n",
    "\n",
    "time.sleep(1)\n",
    "auth_element = driver.find_element_by_id(\"authorize\")\n",
    "auth_element.click()\n",
    "\n",
    "resp_url = driver.current_url\n",
    "driver.quit()\n",
    "\n",
    "resp_url"
   ]
  },
  {
   "cell_type": "code",
   "execution_count": 30,
   "metadata": {},
   "outputs": [
    {
     "data": {
      "text/plain": [
       "'0a48b4afeb8ad57beb2462c01988cadddb41a65f'"
      ]
     },
     "execution_count": 30,
     "metadata": {},
     "output_type": "execute_result"
    }
   ],
   "source": [
    "code = resp_url.split(\"code=\")[1].split(\"&\")[0]\n",
    "code"
   ]
  },
  {
   "cell_type": "code",
   "execution_count": 31,
   "metadata": {},
   "outputs": [
    {
     "data": {
      "text/plain": [
       "'https://www.strava.com/oauth/token?client_id=42763&client_secret=86c423e10bec9e9bdc577ea809d94b169e72d5e2&code=0a48b4afeb8ad57beb2462c01988cadddb41a65f&grant_typeauthorization_code'"
      ]
     },
     "execution_count": 31,
     "metadata": {},
     "output_type": "execute_result"
    }
   ],
   "source": [
    "# sample post\n",
    "    \n",
    "tok_url = 'https://www.strava.com/oauth/token?client_id={client_id}&client_secret={client_secret}&code={code}&grant_typeauthorization_code'.format(\n",
    "    client_id = client_id,\n",
    "    client_secret = client_secret,\n",
    "    code = code\n",
    ")\n",
    "tok_url"
   ]
  },
  {
   "cell_type": "code",
   "execution_count": 32,
   "metadata": {},
   "outputs": [
    {
     "name": "stdout",
     "output_type": "stream",
     "text": [
      "200\n"
     ]
    },
    {
     "data": {
      "text/plain": [
       "{'token_type': 'Bearer',\n",
       " 'expires_at': 1594664135,\n",
       " 'expires_in': 18323,\n",
       " 'refresh_token': 'fa8a5826f5d2ae1dbb5459ebf9fbe34595b28d1b',\n",
       " 'access_token': '7ace92314b000b46ec8fd04d3254117ad58e8800',\n",
       " 'athlete': {'id': 46800838,\n",
       "  'username': None,\n",
       "  'resource_state': 2,\n",
       "  'firstname': 'Max',\n",
       "  'lastname': 'Schultz',\n",
       "  'city': None,\n",
       "  'state': None,\n",
       "  'country': None,\n",
       "  'sex': 'M',\n",
       "  'premium': False,\n",
       "  'summit': False,\n",
       "  'created_at': '2019-09-24T08:30:50Z',\n",
       "  'updated_at': '2020-07-13T12:15:17Z',\n",
       "  'badge_type_id': 0,\n",
       "  'profile_medium': 'avatar/athlete/medium.png',\n",
       "  'profile': 'avatar/athlete/large.png',\n",
       "  'friend': None,\n",
       "  'follower': None}}"
      ]
     },
     "execution_count": 32,
     "metadata": {},
     "output_type": "execute_result"
    }
   ],
   "source": [
    "tok_resp = r.post(tok_url)\n",
    "print(tok_resp.status_code)\n",
    "\n",
    "tok_resp.json()"
   ]
  },
  {
   "cell_type": "code",
   "execution_count": 33,
   "metadata": {},
   "outputs": [
    {
     "data": {
      "text/plain": [
       "'access_token=7ace92314b000b46ec8fd04d3254117ad58e8800'"
      ]
     },
     "execution_count": 33,
     "metadata": {},
     "output_type": "execute_result"
    }
   ],
   "source": [
    "access_token = tok_resp.json()['access_token']\n",
    "f_access_token = \"access_token={access_token}\".format(access_token = access_token)\n",
    "f_access_token"
   ]
  },
  {
   "cell_type": "code",
   "execution_count": 34,
   "metadata": {},
   "outputs": [
    {
     "name": "stdout",
     "output_type": "stream",
     "text": [
      "1\n",
      "2\n",
      "3\n",
      "(76, 48)\n",
      "['resource_state', 'athlete', 'name', 'distance', 'moving_time', 'elapsed_time', 'total_elevation_gain', 'type', 'workout_type', 'id', 'external_id', 'upload_id', 'start_date', 'start_date_local', 'timezone', 'utc_offset', 'start_latlng', 'end_latlng', 'location_city', 'location_state', 'location_country', 'start_latitude', 'start_longitude', 'achievement_count', 'kudos_count', 'comment_count', 'athlete_count', 'photo_count', 'map', 'trainer', 'commute', 'manual', 'private', 'visibility', 'flagged', 'gear_id', 'from_accepted_tag', 'upload_id_str', 'average_speed', 'max_speed', 'has_heartrate', 'heartrate_opt_out', 'display_hide_heartrate_option', 'elev_high', 'elev_low', 'pr_count', 'total_photo_count', 'has_kudoed']\n",
      "Wall time: 4.48 s\n"
     ]
    },
    {
     "data": {
      "text/html": [
       "<div>\n",
       "<style scoped>\n",
       "    .dataframe tbody tr th:only-of-type {\n",
       "        vertical-align: middle;\n",
       "    }\n",
       "\n",
       "    .dataframe tbody tr th {\n",
       "        vertical-align: top;\n",
       "    }\n",
       "\n",
       "    .dataframe thead th {\n",
       "        text-align: right;\n",
       "    }\n",
       "</style>\n",
       "<table border=\"1\" class=\"dataframe\">\n",
       "  <thead>\n",
       "    <tr style=\"text-align: right;\">\n",
       "      <th></th>\n",
       "      <th>resource_state</th>\n",
       "      <th>athlete</th>\n",
       "      <th>name</th>\n",
       "      <th>distance</th>\n",
       "      <th>moving_time</th>\n",
       "      <th>elapsed_time</th>\n",
       "      <th>total_elevation_gain</th>\n",
       "      <th>type</th>\n",
       "      <th>workout_type</th>\n",
       "      <th>id</th>\n",
       "      <th>...</th>\n",
       "      <th>average_speed</th>\n",
       "      <th>max_speed</th>\n",
       "      <th>has_heartrate</th>\n",
       "      <th>heartrate_opt_out</th>\n",
       "      <th>display_hide_heartrate_option</th>\n",
       "      <th>elev_high</th>\n",
       "      <th>elev_low</th>\n",
       "      <th>pr_count</th>\n",
       "      <th>total_photo_count</th>\n",
       "      <th>has_kudoed</th>\n",
       "    </tr>\n",
       "  </thead>\n",
       "  <tbody>\n",
       "    <tr>\n",
       "      <td>0</td>\n",
       "      <td>2</td>\n",
       "      <td>{'id': 46800838, 'resource_state': 1}</td>\n",
       "      <td>Afternoon Run</td>\n",
       "      <td>6705.7</td>\n",
       "      <td>2183</td>\n",
       "      <td>2903</td>\n",
       "      <td>71.6</td>\n",
       "      <td>Run</td>\n",
       "      <td>0</td>\n",
       "      <td>3739581614</td>\n",
       "      <td>...</td>\n",
       "      <td>3.072</td>\n",
       "      <td>6.4</td>\n",
       "      <td>False</td>\n",
       "      <td>False</td>\n",
       "      <td>False</td>\n",
       "      <td>95.8</td>\n",
       "      <td>77.9</td>\n",
       "      <td>1</td>\n",
       "      <td>0</td>\n",
       "      <td>False</td>\n",
       "    </tr>\n",
       "    <tr>\n",
       "      <td>1</td>\n",
       "      <td>2</td>\n",
       "      <td>{'id': 46800838, 'resource_state': 1}</td>\n",
       "      <td>Low &amp; Slow</td>\n",
       "      <td>7410.5</td>\n",
       "      <td>2478</td>\n",
       "      <td>3104</td>\n",
       "      <td>78.3</td>\n",
       "      <td>Run</td>\n",
       "      <td>0</td>\n",
       "      <td>3731401454</td>\n",
       "      <td>...</td>\n",
       "      <td>2.991</td>\n",
       "      <td>6.6</td>\n",
       "      <td>False</td>\n",
       "      <td>False</td>\n",
       "      <td>False</td>\n",
       "      <td>95.8</td>\n",
       "      <td>77.9</td>\n",
       "      <td>0</td>\n",
       "      <td>1</td>\n",
       "      <td>False</td>\n",
       "    </tr>\n",
       "    <tr>\n",
       "      <td>2</td>\n",
       "      <td>2</td>\n",
       "      <td>{'id': 46800838, 'resource_state': 1}</td>\n",
       "      <td>Afternoon Run</td>\n",
       "      <td>5012.4</td>\n",
       "      <td>1529</td>\n",
       "      <td>1712</td>\n",
       "      <td>12.3</td>\n",
       "      <td>Run</td>\n",
       "      <td>0</td>\n",
       "      <td>3705748109</td>\n",
       "      <td>...</td>\n",
       "      <td>3.278</td>\n",
       "      <td>7.1</td>\n",
       "      <td>False</td>\n",
       "      <td>False</td>\n",
       "      <td>False</td>\n",
       "      <td>95.8</td>\n",
       "      <td>82.2</td>\n",
       "      <td>2</td>\n",
       "      <td>1</td>\n",
       "      <td>False</td>\n",
       "    </tr>\n",
       "    <tr>\n",
       "      <td>3</td>\n",
       "      <td>2</td>\n",
       "      <td>{'id': 46800838, 'resource_state': 1}</td>\n",
       "      <td>W. Jack</td>\n",
       "      <td>7370.3</td>\n",
       "      <td>2386</td>\n",
       "      <td>3014</td>\n",
       "      <td>81.2</td>\n",
       "      <td>Run</td>\n",
       "      <td>0</td>\n",
       "      <td>3691497115</td>\n",
       "      <td>...</td>\n",
       "      <td>3.089</td>\n",
       "      <td>6.8</td>\n",
       "      <td>False</td>\n",
       "      <td>False</td>\n",
       "      <td>False</td>\n",
       "      <td>95.8</td>\n",
       "      <td>77.9</td>\n",
       "      <td>0</td>\n",
       "      <td>2</td>\n",
       "      <td>False</td>\n",
       "    </tr>\n",
       "    <tr>\n",
       "      <td>4</td>\n",
       "      <td>2</td>\n",
       "      <td>{'id': 46800838, 'resource_state': 1}</td>\n",
       "      <td>Great 5km, atrocious 10km</td>\n",
       "      <td>10016.3</td>\n",
       "      <td>3327</td>\n",
       "      <td>4239</td>\n",
       "      <td>95.3</td>\n",
       "      <td>Run</td>\n",
       "      <td>0</td>\n",
       "      <td>3672419519</td>\n",
       "      <td>...</td>\n",
       "      <td>3.011</td>\n",
       "      <td>6.2</td>\n",
       "      <td>False</td>\n",
       "      <td>False</td>\n",
       "      <td>False</td>\n",
       "      <td>95.8</td>\n",
       "      <td>48.5</td>\n",
       "      <td>2</td>\n",
       "      <td>2</td>\n",
       "      <td>False</td>\n",
       "    </tr>\n",
       "  </tbody>\n",
       "</table>\n",
       "<p>5 rows × 48 columns</p>\n",
       "</div>"
      ],
      "text/plain": [
       "   resource_state                                athlete  \\\n",
       "0               2  {'id': 46800838, 'resource_state': 1}   \n",
       "1               2  {'id': 46800838, 'resource_state': 1}   \n",
       "2               2  {'id': 46800838, 'resource_state': 1}   \n",
       "3               2  {'id': 46800838, 'resource_state': 1}   \n",
       "4               2  {'id': 46800838, 'resource_state': 1}   \n",
       "\n",
       "                        name  distance  moving_time  elapsed_time  \\\n",
       "0              Afternoon Run    6705.7         2183          2903   \n",
       "1                 Low & Slow    7410.5         2478          3104   \n",
       "2              Afternoon Run    5012.4         1529          1712   \n",
       "3                    W. Jack    7370.3         2386          3014   \n",
       "4  Great 5km, atrocious 10km   10016.3         3327          4239   \n",
       "\n",
       "   total_elevation_gain type  workout_type          id  ... average_speed  \\\n",
       "0                  71.6  Run             0  3739581614  ...         3.072   \n",
       "1                  78.3  Run             0  3731401454  ...         2.991   \n",
       "2                  12.3  Run             0  3705748109  ...         3.278   \n",
       "3                  81.2  Run             0  3691497115  ...         3.089   \n",
       "4                  95.3  Run             0  3672419519  ...         3.011   \n",
       "\n",
       "   max_speed has_heartrate heartrate_opt_out display_hide_heartrate_option  \\\n",
       "0        6.4         False             False                         False   \n",
       "1        6.6         False             False                         False   \n",
       "2        7.1         False             False                         False   \n",
       "3        6.8         False             False                         False   \n",
       "4        6.2         False             False                         False   \n",
       "\n",
       "   elev_high elev_low pr_count total_photo_count has_kudoed  \n",
       "0       95.8     77.9        1                 0      False  \n",
       "1       95.8     77.9        0                 1      False  \n",
       "2       95.8     82.2        2                 1      False  \n",
       "3       95.8     77.9        0                 2      False  \n",
       "4       95.8     48.5        2                 2      False  \n",
       "\n",
       "[5 rows x 48 columns]"
      ]
     },
     "execution_count": 34,
     "metadata": {},
     "output_type": "execute_result"
    }
   ],
   "source": [
    "%%time\n",
    "\n",
    "activites_url = \"https://www.strava.com/api/v3/activities\"\n",
    "\n",
    "df_activities = pd.DataFrame()\n",
    "\n",
    "page = 1\n",
    "while True:\n",
    "    \n",
    "    # get page of activities from Strava\n",
    "    print(page)\n",
    "    resp = r.get(activites_url + '?' + f_access_token + '&per_page=50' + '&page=' + str(page))\n",
    "    _dict = resp.json()\n",
    "    \n",
    "    if len(_dict) == 0 :\n",
    "        break\n",
    "    \n",
    "    else :\n",
    "        df_activities = df_activities.append(pd.DataFrame(_dict)) \n",
    "        page += 1\n",
    "\n",
    "print(df_activities.shape)\n",
    "print(list(df_activities))\n",
    "df_activities.head()"
   ]
  },
  {
   "cell_type": "code",
   "execution_count": 36,
   "metadata": {},
   "outputs": [],
   "source": [
    "df_activities.to_csv(\"sandbox.csv\")"
   ]
  },
  {
   "cell_type": "code",
   "execution_count": null,
   "metadata": {},
   "outputs": [],
   "source": []
  }
 ],
 "metadata": {
  "kernelspec": {
   "display_name": "Python 3",
   "language": "python",
   "name": "python3"
  },
  "language_info": {
   "codemirror_mode": {
    "name": "ipython",
    "version": 3
   },
   "file_extension": ".py",
   "mimetype": "text/x-python",
   "name": "python",
   "nbconvert_exporter": "python",
   "pygments_lexer": "ipython3",
   "version": "3.7.4"
  }
 },
 "nbformat": 4,
 "nbformat_minor": 4
}
