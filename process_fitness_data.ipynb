{
 "cells": [
  {
   "cell_type": "markdown",
   "metadata": {},
   "source": [
    "### Process Fitness Data\n",
    "\n",
    "##### Preprocess Data:\n",
    "* Extract recorded activities\n",
    "* Create uids\n",
    "* Create max RMs"
   ]
  },
  {
   "cell_type": "markdown",
   "metadata": {},
   "source": [
    "##### Pull Data"
   ]
  },
  {
   "cell_type": "code",
   "execution_count": 2,
   "metadata": {},
   "outputs": [
    {
     "name": "stdout",
     "output_type": "stream",
     "text": [
      "You are using the Extract API 2.0, please save the output as .hyper format\n"
     ]
    },
    {
     "data": {
      "text/plain": [
       "\u001b[1;31mType:\u001b[0m           GoogleDrive\n",
       "\u001b[1;31mString form:\u001b[0m    <pydrive.drive.GoogleDrive object at 0x000002A8B373CB08>\n",
       "\u001b[1;31mFile:\u001b[0m           c:\\python37\\lib\\site-packages\\pydrive\\drive.py\n",
       "\u001b[1;31mDocstring:\u001b[0m      Main Google Drive class.\n",
       "\u001b[1;31mInit docstring:\u001b[0m\n",
       "Create an instance of GoogleDrive.\n",
       "\n",
       ":param auth: authorized GoogleAuth instance.\n",
       ":type auth: pydrive.auth.GoogleAuth.\n"
      ]
     },
     "metadata": {},
     "output_type": "display_data"
    }
   ],
   "source": [
    "from pydrive.drive import GoogleDrive\n",
    "from pydrive.auth import GoogleAuth\n",
    "from pandleau import *\n",
    "\n",
    "gauth = GoogleAuth()\n",
    "drive = GoogleDrive(gauth)\n",
    "drive?"
   ]
  },
  {
   "cell_type": "code",
   "execution_count": 3,
   "metadata": {},
   "outputs": [
    {
     "name": "stdout",
     "output_type": "stream",
     "text": [
      "Your browser has been opened to visit:\n",
      "\n",
      "    https://accounts.google.com/o/oauth2/auth?client_id=874659251868-8fdkk74gtuje4j65gvjosq2gcu447hga.apps.googleusercontent.com&redirect_uri=http%3A%2F%2Flocalhost%3A8080%2F&scope=https%3A%2F%2Fwww.googleapis.com%2Fauth%2Fdrive&access_type=offline&response_type=code\n",
      "\n",
      "Authentication successful.\n"
     ]
    }
   ],
   "source": [
    "mimetypes = {\n",
    "    # Drive Document files as MS Word files.\n",
    "    'application/vnd.google-apps.document': 'application/vnd.openxmlformats-officedocument.wordprocessingml.document',\n",
    "\n",
    "    # Drive Sheets files as MS Excel files.\n",
    "    'application/vnd.google-apps.spreadsheet': 'application/vnd.openxmlformats-officedocument.spreadsheetml.sheet'\n",
    "\n",
    "    # etc.\n",
    "}\n",
    "\n",
    "file_list = drive.ListFile({'q': \"'root' in parents and trashed=false\"}).GetList()\n",
    "\n",
    "for file1 in file_list:\n",
    "    \n",
    "    if file1['title'] == \"FY20 H1 Workout Tracker\" :\n",
    "        \n",
    "        download_mimetype = None\n",
    "        if file1['mimeType'] in mimetypes:\n",
    "            download_mimetype = mimetypes[file1['mimeType']]\n",
    "\n",
    "        \n",
    "        file1.GetContentFile(\"tmp_\"+file1['title']+\".xlsx\", mimetype=download_mimetype)"
   ]
  },
  {
   "cell_type": "code",
   "execution_count": 6,
   "metadata": {},
   "outputs": [
    {
     "name": "stdout",
     "output_type": "stream",
     "text": [
      "SYSTEM INIT: 11/21/19 10:50:34 PM\n",
      "\n",
      " (101, 13)\n"
     ]
    },
    {
     "data": {
      "text/html": [
       "<div>\n",
       "<style scoped>\n",
       "    .dataframe tbody tr th:only-of-type {\n",
       "        vertical-align: middle;\n",
       "    }\n",
       "\n",
       "    .dataframe tbody tr th {\n",
       "        vertical-align: top;\n",
       "    }\n",
       "\n",
       "    .dataframe thead th {\n",
       "        text-align: right;\n",
       "    }\n",
       "</style>\n",
       "<table border=\"1\" class=\"dataframe\">\n",
       "  <thead>\n",
       "    <tr style=\"text-align: right;\">\n",
       "      <th></th>\n",
       "      <th>Rotation</th>\n",
       "      <th>1RM</th>\n",
       "      <th>Workout</th>\n",
       "      <th>Exercise</th>\n",
       "      <th>Week</th>\n",
       "      <th>Sets</th>\n",
       "      <th>Reps</th>\n",
       "      <th>% 1RM (pace if running)</th>\n",
       "      <th>Actual Lift</th>\n",
       "      <th>Date</th>\n",
       "      <th>Time</th>\n",
       "      <th>Bodyweight</th>\n",
       "      <th>Notes</th>\n",
       "    </tr>\n",
       "  </thead>\n",
       "  <tbody>\n",
       "    <tr>\n",
       "      <td>0</td>\n",
       "      <td>3.0</td>\n",
       "      <td>65.17</td>\n",
       "      <td>1.0</td>\n",
       "      <td>Shoulder Press</td>\n",
       "      <td>1.0</td>\n",
       "      <td>3.0</td>\n",
       "      <td>5</td>\n",
       "      <td>65, 75, 85</td>\n",
       "      <td>4x55</td>\n",
       "      <td>2019-10-24</td>\n",
       "      <td>14:00:00</td>\n",
       "      <td>88.7</td>\n",
       "      <td>NaN</td>\n",
       "    </tr>\n",
       "    <tr>\n",
       "      <td>1</td>\n",
       "      <td>NaN</td>\n",
       "      <td>NaN</td>\n",
       "      <td>NaN</td>\n",
       "      <td>Shoulder Press</td>\n",
       "      <td>2.0</td>\n",
       "      <td>3.0</td>\n",
       "      <td>3</td>\n",
       "      <td>70, 80, 90</td>\n",
       "      <td>3x57.5</td>\n",
       "      <td>2019-10-31</td>\n",
       "      <td>19:30:00</td>\n",
       "      <td>90</td>\n",
       "      <td>NaN</td>\n",
       "    </tr>\n",
       "    <tr>\n",
       "      <td>2</td>\n",
       "      <td>NaN</td>\n",
       "      <td>NaN</td>\n",
       "      <td>NaN</td>\n",
       "      <td>Shoulder Press</td>\n",
       "      <td>3.0</td>\n",
       "      <td>3.0</td>\n",
       "      <td>5 / 3 / 1</td>\n",
       "      <td>75, 85, 95</td>\n",
       "      <td>3x60</td>\n",
       "      <td>2019-11-09</td>\n",
       "      <td>16:15:00</td>\n",
       "      <td>90.1</td>\n",
       "      <td>NaN</td>\n",
       "    </tr>\n",
       "  </tbody>\n",
       "</table>\n",
       "</div>"
      ],
      "text/plain": [
       "   Rotation    1RM  Workout        Exercise  Week  Sets       Reps  \\\n",
       "0       3.0  65.17      1.0  Shoulder Press   1.0   3.0          5   \n",
       "1       NaN    NaN      NaN  Shoulder Press   2.0   3.0          3   \n",
       "2       NaN    NaN      NaN  Shoulder Press   3.0   3.0  5 / 3 / 1   \n",
       "\n",
       "  % 1RM (pace if running) Actual Lift       Date      Time Bodyweight Notes  \n",
       "0              65, 75, 85        4x55 2019-10-24  14:00:00       88.7   NaN  \n",
       "1              70, 80, 90      3x57.5 2019-10-31  19:30:00         90   NaN  \n",
       "2              75, 85, 95        3x60 2019-11-09  16:15:00       90.1   NaN  "
      ]
     },
     "execution_count": 6,
     "metadata": {},
     "output_type": "execute_result"
    }
   ],
   "source": [
    "import pandas as pd\n",
    "import datetime\n",
    "import pprint\n",
    "\n",
    "print(\"SYSTEM INIT: {0}\".format(\n",
    "    datetime.datetime.strftime(datetime.datetime.now(), '%D %r')\n",
    "))\n",
    "\n",
    "file = \"tmp_FY20 H1 Workout Tracker.xlsx\"\n",
    "\n",
    "df = pd.read_excel(file, skiprows=3)\n",
    "print(\"\\n\",df.shape)\n",
    "df.head(3)"
   ]
  },
  {
   "cell_type": "markdown",
   "metadata": {},
   "source": [
    "#### Preprocessing"
   ]
  },
  {
   "cell_type": "code",
   "execution_count": null,
   "metadata": {},
   "outputs": [],
   "source": []
  },
  {
   "cell_type": "code",
   "execution_count": 8,
   "metadata": {},
   "outputs": [
    {
     "name": "stdout",
     "output_type": "stream",
     "text": [
      "Total exercises: 63\n",
      "Total recorded exercises: 61\n",
      "Run               14\n",
      "Squat             12\n",
      "Shoulder Press    12\n",
      "Deadlifts         12\n",
      "Bench Press       11\n",
      "Name: Exercise, dtype: int64\n"
     ]
    }
   ],
   "source": [
    "# split out powerlifting, accessory, and running rows\n",
    "recorded_exercise = [\n",
    "    'Shoulder Press',\n",
    "    'Bench Press',\n",
    "    'Deadlifts',\n",
    "    'Squat',\n",
    "    'Run'\n",
    "]\n",
    "df['map'] = df['Exercise'].apply(\n",
    "    lambda x: True if x in recorded_exercise and pd.notnull(x) else False\n",
    ")\n",
    "rec_df = df[df['map']==True].drop('map', axis=1)\n",
    "print(\"Total exercises:\",len(rec_df))\n",
    "\n",
    "\n",
    "# drop unfilled nan rows\n",
    "rec_df = rec_df.dropna(\n",
    "    how='any',\n",
    "    subset=['Date']\n",
    ")\n",
    "print(\"Total recorded exercises:\",len(rec_df))\n",
    "print(rec_df['Exercise'].value_counts())"
   ]
  },
  {
   "cell_type": "code",
   "execution_count": 9,
   "metadata": {},
   "outputs": [
    {
     "data": {
      "text/html": [
       "<div>\n",
       "<style scoped>\n",
       "    .dataframe tbody tr th:only-of-type {\n",
       "        vertical-align: middle;\n",
       "    }\n",
       "\n",
       "    .dataframe tbody tr th {\n",
       "        vertical-align: top;\n",
       "    }\n",
       "\n",
       "    .dataframe thead th {\n",
       "        text-align: right;\n",
       "    }\n",
       "</style>\n",
       "<table border=\"1\" class=\"dataframe\">\n",
       "  <thead>\n",
       "    <tr style=\"text-align: right;\">\n",
       "      <th></th>\n",
       "      <th>Rotation</th>\n",
       "      <th>1RM</th>\n",
       "      <th>Workout</th>\n",
       "      <th>Exercise</th>\n",
       "      <th>Week</th>\n",
       "      <th>Sets</th>\n",
       "      <th>Reps</th>\n",
       "      <th>Actual Lift</th>\n",
       "      <th>Date</th>\n",
       "      <th>Time</th>\n",
       "      <th>Bodyweight</th>\n",
       "      <th>Notes</th>\n",
       "      <th>calculated_1RM</th>\n",
       "      <th>Distance</th>\n",
       "      <th>Pace</th>\n",
       "      <th>% 1RM</th>\n",
       "      <th>Pace Numeric</th>\n",
       "    </tr>\n",
       "    <tr>\n",
       "      <th>uid</th>\n",
       "      <th></th>\n",
       "      <th></th>\n",
       "      <th></th>\n",
       "      <th></th>\n",
       "      <th></th>\n",
       "      <th></th>\n",
       "      <th></th>\n",
       "      <th></th>\n",
       "      <th></th>\n",
       "      <th></th>\n",
       "      <th></th>\n",
       "      <th></th>\n",
       "      <th></th>\n",
       "      <th></th>\n",
       "      <th></th>\n",
       "      <th></th>\n",
       "      <th></th>\n",
       "    </tr>\n",
       "  </thead>\n",
       "  <tbody>\n",
       "    <tr>\n",
       "      <td>3_1.0.1</td>\n",
       "      <td>3.0</td>\n",
       "      <td>65.17</td>\n",
       "      <td>1.0</td>\n",
       "      <td>Shoulder Press</td>\n",
       "      <td>1.0</td>\n",
       "      <td>3.0</td>\n",
       "      <td>5</td>\n",
       "      <td>4x55</td>\n",
       "      <td>2019-10-24</td>\n",
       "      <td>14:00:00</td>\n",
       "      <td>88.7</td>\n",
       "      <td>NaN</td>\n",
       "      <td>62.333333</td>\n",
       "      <td>NaN</td>\n",
       "      <td>None</td>\n",
       "      <td>65, 75, 85</td>\n",
       "      <td>NaN</td>\n",
       "    </tr>\n",
       "    <tr>\n",
       "      <td>3_1.0.2</td>\n",
       "      <td>3.0</td>\n",
       "      <td>NaN</td>\n",
       "      <td>1.0</td>\n",
       "      <td>Shoulder Press</td>\n",
       "      <td>2.0</td>\n",
       "      <td>3.0</td>\n",
       "      <td>3</td>\n",
       "      <td>3x57.5</td>\n",
       "      <td>2019-10-31</td>\n",
       "      <td>19:30:00</td>\n",
       "      <td>90</td>\n",
       "      <td>NaN</td>\n",
       "      <td>63.250000</td>\n",
       "      <td>NaN</td>\n",
       "      <td>None</td>\n",
       "      <td>70, 80, 90</td>\n",
       "      <td>NaN</td>\n",
       "    </tr>\n",
       "  </tbody>\n",
       "</table>\n",
       "</div>"
      ],
      "text/plain": [
       "         Rotation    1RM  Workout        Exercise  Week  Sets Reps  \\\n",
       "uid                                                                  \n",
       "3_1.0.1       3.0  65.17      1.0  Shoulder Press   1.0   3.0    5   \n",
       "3_1.0.2       3.0    NaN      1.0  Shoulder Press   2.0   3.0    3   \n",
       "\n",
       "        Actual Lift       Date      Time Bodyweight Notes  calculated_1RM  \\\n",
       "uid                                                                         \n",
       "3_1.0.1        4x55 2019-10-24  14:00:00       88.7   NaN       62.333333   \n",
       "3_1.0.2      3x57.5 2019-10-31  19:30:00         90   NaN       63.250000   \n",
       "\n",
       "         Distance  Pace       % 1RM  Pace Numeric  \n",
       "uid                                                \n",
       "3_1.0.1       NaN  None  65, 75, 85           NaN  \n",
       "3_1.0.2       NaN  None  70, 80, 90           NaN  "
      ]
     },
     "execution_count": 9,
     "metadata": {},
     "output_type": "execute_result"
    }
   ],
   "source": [
    "# propogate Rotation, and Workout down, create new sub_Workout column -> have a 3 digit code to identify any workout eg 2_1.2 \n",
    "rec_df[['Rotation', 'Workout']] = rec_df[['Rotation', 'Workout']].fillna(method='ffill')\n",
    "\n",
    "def make_uid(row) : \n",
    "    return str(int(row['Rotation'])) + \"_\" + str(row['Workout']) + \".\" + str(int(row['Week']))\n",
    "rec_df['uid'] = rec_df.apply(\n",
    "    make_uid, axis=1\n",
    ")\n",
    "\n",
    "rec_df.set_index('uid', inplace=True)\n",
    "\n",
    "# calculate theoritcal_1RM from Actual lift\n",
    "def make_1rm(r) :\n",
    "    \n",
    "    if r['Exercise'] != 'Run':\n",
    "        x = r['Actual Lift']\n",
    "        r, w = x.split('x')[0], x.split('x')[1]\n",
    "        return float(w)*(1 + (int(r)/30))\n",
    "    \n",
    "    return None # find a better proxy\n",
    "\n",
    "rec_df['calculated_1RM'] = rec_df.apply(\n",
    "    make_1rm, axis=1\n",
    ")\n",
    "\n",
    "# process runnning data\n",
    "rec_df['Distance'], rec_df['Pace'], rec_df['% 1RM'] = None, None, None\n",
    "def make_running(r) :\n",
    "    \n",
    "    if r['Exercise'] == 'Run' :\n",
    "        pace_numeric = r['% 1RM (pace if running)'].hour + r['% 1RM (pace if running)'].minute * 0.01\n",
    "        return float(r['Actual Lift'].split(\"km\")[0]), r['% 1RM (pace if running)'], pace_numeric, None, None\n",
    "    else :\n",
    "        return None, None, None, r['Actual Lift'], r['% 1RM (pace if running)']\n",
    "    \n",
    "rec_df[['Distance', 'Pace', 'Pace Numeric', 'Actual Lift', '% 1RM']] = rec_df.apply(make_running, axis=1, result_type=\"expand\")\n",
    "rec_df = rec_df.drop('% 1RM (pace if running)', axis=1)\n",
    "\n",
    "rec_df.head(2)"
   ]
  },
  {
   "cell_type": "markdown",
   "metadata": {},
   "source": [
    "#### Write out"
   ]
  },
  {
   "cell_type": "code",
   "execution_count": 10,
   "metadata": {},
   "outputs": [
    {
     "name": "stdout",
     "output_type": "stream",
     "text": [
      "SYSTEM COMPLETE: 11/21/19 10:51:08 PM\n"
     ]
    }
   ],
   "source": [
    "rec_df.to_excel(\"Workout_Tracker_Processed.xlsx\", index=False)\n",
    "print(\"SYSTEM COMPLETE: {0}\".format(\n",
    "    datetime.datetime.strftime(datetime.datetime.now(), '%D %r')\n",
    "))"
   ]
  },
  {
   "cell_type": "code",
   "execution_count": 13,
   "metadata": {},
   "outputs": [
    {
     "data": {
      "text/plain": [
       "'\\ndef make_conversion(df) :\\n    \\n    print(df.shape)\\n    tmp_df = pandleau(df)\\n\\n    # remove if file exists, write out new file\\n    out_file = os.path.join(\"Workout_Tracker_Processed.hyper\")\\n    \\n    if os.path.isfile(out_file) :\\n        os.remove(out_file)\\n\\n    tmp_df.to_tableau(out_file, add_index=False)\\n\\n    print(\"PYTHON: {0} conversion complete\")\\n    print(\"PYTHON: {0}\".format(datetime.datetime.now().strftime(\"%d/%m/%Y %H:%M\")))\\n\\ndef clean_logs() :\\n\\n    # clean up log files\\n    log_path = os.path.join(os.getcwd(), \"logs\")\\n\\n    log_files = [\\n        f for f in os.listdir(\"./\")\\n        if os.path.isfile(os.path.join(\"./\", f)) and \".log\" in f\\n        or \"hyper_db_\" in f\\n    ]\\n\\n    for file in log_files :\\n        os.rename(file, os.path.join(log_path, file))\\n\\n    print(\"\\nPYTHON: Directory cleaned\")\\n    print(\"PYTHON: {0}\".format(datetime.datetime.now().strftime(\"%d/%m/%Y %H:%M\")))\\n\\nmake_conversion(rec_df)\\nclean_logs()\\n'"
      ]
     },
     "execution_count": 13,
     "metadata": {},
     "output_type": "execute_result"
    }
   ],
   "source": [
    "# not a valid solution?\n",
    "'''\n",
    "def make_conversion(df) :\n",
    "    \n",
    "    print(df.shape)\n",
    "    tmp_df = pandleau(df)\n",
    "\n",
    "    # remove if file exists, write out new file\n",
    "    out_file = os.path.join(\"Workout_Tracker_Processed.hyper\")\n",
    "    \n",
    "    if os.path.isfile(out_file) :\n",
    "        os.remove(out_file)\n",
    "\n",
    "    tmp_df.to_tableau(out_file, add_index=False)\n",
    "\n",
    "    print(\"PYTHON: {0} conversion complete\")\n",
    "    print(\"PYTHON: {0}\".format(datetime.datetime.now().strftime(\"%d/%m/%Y %H:%M\")))\n",
    "\n",
    "def clean_logs() :\n",
    "\n",
    "    # clean up log files\n",
    "    log_path = os.path.join(os.getcwd(), \"logs\")\n",
    "\n",
    "    log_files = [\n",
    "        f for f in os.listdir(\"./\")\n",
    "        if os.path.isfile(os.path.join(\"./\", f)) and \".log\" in f\n",
    "        or \"hyper_db_\" in f\n",
    "    ]\n",
    "\n",
    "    for file in log_files :\n",
    "        os.rename(file, os.path.join(log_path, file))\n",
    "\n",
    "    print(\"\\nPYTHON: Directory cleaned\")\n",
    "    print(\"PYTHON: {0}\".format(datetime.datetime.now().strftime(\"%d/%m/%Y %H:%M\")))\n",
    "\n",
    "make_conversion(rec_df)\n",
    "clean_logs()\n",
    "'''"
   ]
  },
  {
   "cell_type": "code",
   "execution_count": null,
   "metadata": {},
   "outputs": [],
   "source": []
  }
 ],
 "metadata": {
  "kernelspec": {
   "display_name": "Python 3",
   "language": "python",
   "name": "python3"
  },
  "language_info": {
   "codemirror_mode": {
    "name": "ipython",
    "version": 3
   },
   "file_extension": ".py",
   "mimetype": "text/x-python",
   "name": "python",
   "nbconvert_exporter": "python",
   "pygments_lexer": "ipython3",
   "version": "3.7.4"
  }
 },
 "nbformat": 4,
 "nbformat_minor": 4
}
