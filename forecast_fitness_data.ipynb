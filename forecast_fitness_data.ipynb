{
 "cells": [
  {
   "cell_type": "markdown",
   "metadata": {},
   "source": [
    "# Forecasting Fitness Data\n",
    "\n",
    "### Table of Contents:\n",
    "* [Init Env](#init_env)\n",
    "* [Graph Data](#graph_data)\n",
    "* [Forecast Data](#forecast_data)"
   ]
  },
  {
   "cell_type": "markdown",
   "metadata": {},
   "source": [
    "***\n",
    "### Init Env <a class=\"anchor\" id=\"init_env\"></a>"
   ]
  },
  {
   "cell_type": "code",
   "execution_count": 75,
   "metadata": {},
   "outputs": [],
   "source": [
    "import os, sys\n",
    "\n",
    "import numpy as np\n",
    "import pandas as pd\n",
    "import seaborn as sns\n",
    "import matplotlib.pyplot as plt\n",
    "from matplotlib import dates\n",
    "import datetime\n",
    "\n",
    "sns.set(style=\"darkgrid\")\n",
    "%matplotlib inline"
   ]
  },
  {
   "cell_type": "code",
   "execution_count": 76,
   "metadata": {},
   "outputs": [
    {
     "name": "stdout",
     "output_type": "stream",
     "text": [
      "(85, 17)\n",
      "<class 'pandas.core.frame.DataFrame'>\n",
      "RangeIndex: 85 entries, 0 to 84\n",
      "Data columns (total 17 columns):\n",
      "Rotation          85 non-null int64\n",
      "1RM               20 non-null object\n",
      "Workout           85 non-null int64\n",
      "Exercise          85 non-null object\n",
      "Week              85 non-null float64\n",
      "Sets              66 non-null float64\n",
      "Reps              66 non-null object\n",
      "Actual Lift       66 non-null object\n",
      "Date              85 non-null datetime64[ns]\n",
      "Time              85 non-null object\n",
      "Bodyweight        63 non-null object\n",
      "Notes             29 non-null object\n",
      "calculated_1RM    66 non-null float64\n",
      "Distance          19 non-null float64\n",
      "Pace              19 non-null object\n",
      "% 1RM             66 non-null object\n",
      "Pace Numeric      19 non-null float64\n",
      "dtypes: datetime64[ns](1), float64(5), int64(2), object(9)\n",
      "memory usage: 11.4+ KB\n"
     ]
    }
   ],
   "source": [
    "df = pd.read_excel(\"Workout_Tracker_Processed.xlsx\")\n",
    "#df['Date'] = pd.to_datetime(df['Date'], format='%Y-%m-%d')\n",
    "\n",
    "print(df.shape)\n",
    "df.info()"
   ]
  },
  {
   "cell_type": "markdown",
   "metadata": {},
   "source": [
    "***\n",
    "### Graph Data <a class=\"anchor\" id=\"graph_data\"></a>"
   ]
  },
  {
   "cell_type": "code",
   "execution_count": 77,
   "metadata": {},
   "outputs": [
    {
     "name": "stderr",
     "output_type": "stream",
     "text": [
      "c:\\python37\\lib\\site-packages\\ipykernel_launcher.py:6: SettingWithCopyWarning: \n",
      "A value is trying to be set on a copy of a slice from a DataFrame.\n",
      "Try using .loc[row_indexer,col_indexer] = value instead\n",
      "\n",
      "See the caveats in the documentation: http://pandas.pydata.org/pandas-docs/stable/user_guide/indexing.html#returning-a-view-versus-a-copy\n",
      "  \n",
      "c:\\python37\\lib\\site-packages\\ipykernel_launcher.py:9: SettingWithCopyWarning: \n",
      "A value is trying to be set on a copy of a slice from a DataFrame.\n",
      "Try using .loc[row_indexer,col_indexer] = value instead\n",
      "\n",
      "See the caveats in the documentation: http://pandas.pydata.org/pandas-docs/stable/user_guide/indexing.html#returning-a-view-versus-a-copy\n",
      "  if __name__ == '__main__':\n"
     ]
    },
    {
     "data": {
      "image/png": "[encoded data removed]",
      "text/plain": [
       "<Figure size 432x288 with 1 Axes>"
      ]
     },
     "metadata": {
      "needs_background": "light"
     },
     "output_type": "display_data"
    }
   ],
   "source": [
    "# method for graphing datetime into seaborn\n",
    "exercise = 'Bench Press'\n",
    "df_bp = df[df['Exercise']==exercise]\n",
    "\n",
    "df_bp['date_str'] = df_bp['Date'].apply(\n",
    "    lambda x: datetime.datetime.strftime(x, '%Y-%m-%d')\n",
    ")\n",
    "df_bp['date_num'] = df_bp['date_str'].apply(\n",
    "    lambda x: dates.datestr2num(x)\n",
    ")\n",
    "\n",
    "\n",
    "@plt.FuncFormatter\n",
    "def fake_dates(x, pos):\n",
    "    \"\"\" Custom formater to turn floats into e.g., 2016-05-08\"\"\"\n",
    "    return dates.num2date(x).strftime('%Y-%m-%d')\n",
    "\n",
    "\n",
    "# just use regplot if you don't need a FacetGrid\n",
    "fig, ax = plt.subplots()\n",
    "sns.regplot(\n",
    "    'date_num', \n",
    "    'calculated_1RM', \n",
    "    data=df_bp, \n",
    "    ax=ax\n",
    ")\n",
    "\n",
    "\n",
    "# here's the magic:\n",
    "ax.xaxis.set_major_formatter(fake_dates)\n",
    "\n",
    "# legible labels\n",
    "ax.tick_params(labelrotation=45)\n",
    "\n",
    "x_min, x_max = df_bp['date_num'].min()-5, df_bp['date_num'].max()+15\n",
    "y_min, y_max = df_bp['calculated_1RM'].min()-5, df_bp['calculated_1RM'].max()+5\n",
    "\n",
    "ax.set(\n",
    "    xlim=(x_min, x_max),\n",
    "    ylim=(y_min, y_max)\n",
    ");"
   ]
  },
  {
   "cell_type": "markdown",
   "metadata": {},
   "source": [
    "***\n",
    "### Forecast Data <a class=\"anchor\" id=\"forecast_data\"></a>"
   ]
  },
  {
   "cell_type": "code",
   "execution_count": 78,
   "metadata": {},
   "outputs": [
    {
     "name": "stdout",
     "output_type": "stream",
     "text": [
      "17\n",
      "17    88.761034\n",
      "dtype: float64\n"
     ]
    },
    {
     "name": "stderr",
     "output_type": "stream",
     "text": [
      "c:\\python37\\lib\\site-packages\\statsmodels\\tsa\\base\\tsa_model.py:215: ValueWarning: An unsupported index was provided and will be ignored when e.g. forecasting.\n",
      "  ' ignored when e.g. forecasting.', ValueWarning)\n",
      "c:\\python37\\lib\\site-packages\\statsmodels\\tsa\\base\\tsa_model.py:576: ValueWarning: No supported index is available. Prediction results will be given with an integer index beginning at `start`.\n",
      "  ValueWarning)\n"
     ]
    }
   ],
   "source": [
    "# HWES example\n",
    "from statsmodels.tsa.holtwinters import ExponentialSmoothing\n",
    "from random import random\n",
    "\n",
    "# fit model\n",
    "model = ExponentialSmoothing(df_bp['calculated_1RM'])\n",
    "model_fit = model.fit()\n",
    "\n",
    "# make prediction\n",
    "yhat = model_fit.predict(\n",
    "    #len(df_bp['calculated_1RM']), len(df_bp['calculated_1RM'])\n",
    ")\n",
    "print(len(df_bp['calculated_1RM']))\n",
    "print(yhat)"
   ]
  },
  {
   "cell_type": "code",
   "execution_count": 79,
   "metadata": {},
   "outputs": [
    {
     "name": "stdout",
     "output_type": "stream",
     "text": [
      "17\n"
     ]
    },
    {
     "data": {
      "text/plain": [
       "18"
      ]
     },
     "execution_count": 79,
     "metadata": {},
     "output_type": "execute_result"
    }
   ],
   "source": [
    "# append data\n",
    "\n",
    "new_entry = pd.DataFrame({\n",
    "    \"calculated_1RM\" : yhat,\n",
    "    \"date_num\" : df_bp['date_num'].max()+10\n",
    "})\n",
    "print(len(df_bp))\n",
    "df_bp = df_bp.append(new_entry)\n",
    "len(df_bp)"
   ]
  },
  {
   "cell_type": "code",
   "execution_count": 82,
   "metadata": {},
   "outputs": [
    {
     "data": {
      "image/png": "[encoded data removed]",
      "text/plain": [
       "<Figure size 432x288 with 1 Axes>"
      ]
     },
     "metadata": {
      "needs_background": "light"
     },
     "output_type": "display_data"
    }
   ],
   "source": [
    "# method for graphing datetime into seaborn\n",
    "\n",
    "#df_bp['date_str'] = df_bp['Date'].apply(\n",
    "#    lambda x: datetime.datetime.strftime(x, '%Y-%m-%d')\n",
    "#)\n",
    "#df_bp['date_num'] = df_bp['date_str'].apply(\n",
    "#    lambda x: dates.datestr2num(x)\n",
    "#)\n",
    "\n",
    "\n",
    "@plt.FuncFormatter\n",
    "def fake_dates(x, pos):\n",
    "    \"\"\" Custom formater to turn floats into e.g., 2016-05-08\"\"\"\n",
    "    return dates.num2date(x).strftime('%Y-%m-%d')\n",
    "\n",
    "\n",
    "# just use regplot if you don't need a FacetGrid\n",
    "fig, ax = plt.subplots()\n",
    "sns.regplot(\n",
    "    'date_num', \n",
    "    'calculated_1RM', \n",
    "    data=df_bp, \n",
    "    ax=ax\n",
    ")\n",
    "\n",
    "\n",
    "# here's the magic:\n",
    "ax.xaxis.set_major_formatter(fake_dates)\n",
    "\n",
    "# legible labels\n",
    "ax.tick_params(labelrotation=45)\n",
    "\n",
    "x_min, x_max = df_bp['date_num'].min()-5, df_bp['date_num'].max()+20\n",
    "y_min, y_max = df_bp['calculated_1RM'].min()-5, df_bp['calculated_1RM'].max()+5\n",
    "\n",
    "ax.set(\n",
    "    xlim=(x_min, x_max),\n",
    "    ylim=(y_min, y_max)\n",
    ");"
   ]
  },
  {
   "cell_type": "code",
   "execution_count": null,
   "metadata": {},
   "outputs": [],
   "source": []
  }
 ],
 "metadata": {
  "kernelspec": {
   "display_name": "Python 3",
   "language": "python",
   "name": "python3"
  },
  "language_info": {
   "codemirror_mode": {
    "name": "ipython",
    "version": 3
   },
   "file_extension": ".py",
   "mimetype": "text/x-python",
   "name": "python",
   "nbconvert_exporter": "python",
   "pygments_lexer": "ipython3",
   "version": "3.7.4"
  }
 },
 "nbformat": 4,
 "nbformat_minor": 4
}
